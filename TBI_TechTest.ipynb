{
 "cells": [
  {
   "cell_type": "markdown",
   "id": "e2963800",
   "metadata": {},
   "source": [
    "- Name: Martha Kachweka\n",
    "\n",
    "- Task: TBI Technical Test"
   ]
  },
  {
   "cell_type": "markdown",
   "id": "355b8738",
   "metadata": {},
   "source": [
    "### Abstract / Summary:\n",
    "\n",
    "This project investigates binary classification techniques for distinguishing fake and real news using a text-based dataset spanning three domains: News, Politics, and Other.\n",
    "\n",
    "The assignment aimed to build a machine learning model to detect and classify fake news articles. The dataset included labeled text samples of both real and fake news. To start, a set of **baseline models** such as **Logistic Regression and Naive Bayes** were used to establish reference performance levels. These models are simple but commonly used in text classification tasks, providing a solid benchmark for comparison.\n",
    "\n",
    "To enhance model performance, several feature engineering techniques were applied. These included extracting the length of the news articles, counting words, punctuation marks (like exclamation and question marks), and detecting specific bias-related keywords. This step helped provide additional meaningful information beyond just the raw text.\n",
    "\n",
    "After feature preparation, more advanced ensemble models such as **Random Forest**, **XGBoost**, and **LightGBM** were trained. These models are known for combining the predictions of multiple decision trees to improve accuracy and handle complex patterns in the data.\n",
    "\n",
    "The results showed that while baseline models performed reasonably well, ensemble models outperformed them significantly. Both XGBoost and LightGBM achieved over **99%** accuracy, indicating strong model generalization and effectiveness in identifying fake news. The project demonstrates the power of combining thoughtful feature design with advanced modeling techniques to tackle misinformation."
   ]
  },
  {
   "cell_type": "markdown",
   "id": "9efe8ca1",
   "metadata": {},
   "source": [
    "# Library Installation"
   ]
  },
  {
   "cell_type": "code",
   "execution_count": 1,
   "id": "9a05acb2",
   "metadata": {},
   "outputs": [],
   "source": [
    "import warnings\n",
    "import numpy as np\n",
    "import pandas as pd\n",
    "\n",
    "import matplotlib.pyplot as plt\n",
    "import seaborn as sns\n",
    "from wordcloud import WordCloud\n",
    "\n",
    "\n",
    "from textblob import TextBlob\n",
    "from sklearn.feature_extraction.text import TfidfVectorizer\n",
    "from sklearn.feature_extraction.text import CountVectorizer\n",
    "\n",
    "from sklearn.linear_model import LogisticRegression\n",
    "from sklearn.ensemble import RandomForestClassifier\n",
    "from sklearn.naive_bayes import MultinomialNB\n",
    "from sklearn.compose import ColumnTransformer\n",
    "from lightgbm import LGBMClassifier\n",
    "from xgboost import XGBClassifier\n",
    "from sklearn.pipeline import Pipeline\n",
    "\n",
    "from sklearn.svm import LinearSVC\n",
    "from xgboost import XGBClassifier\n",
    "from lightgbm import LGBMClassifier\n",
    "from sklearn.metrics import accuracy_score, precision_score, recall_score, f1_score, classification_report\n",
    "from sklearn.preprocessing import StandardScaler, OneHotEncoder\n",
    "from sklearn.model_selection import train_test_split\n",
    "from scipy.sparse import hstack\n",
    "\n",
    "# import shap\n",
    "\n",
    "warnings.filterwarnings(\"ignore\")\n"
   ]
  },
  {
   "cell_type": "markdown",
   "id": "a77061c7",
   "metadata": {},
   "source": [
    "# Loading and reading the datasets"
   ]
  },
  {
   "cell_type": "code",
   "execution_count": 2,
   "id": "693efa20",
   "metadata": {},
   "outputs": [],
   "source": [
    "# loading both dataset\n",
    "fake_df = pd.read_csv('Fake.csv')\n",
    "real_df = pd.read_csv('True.csv')"
   ]
  },
  {
   "cell_type": "markdown",
   "id": "f0020f05",
   "metadata": {},
   "source": [
    "# Exploratory data analysis (EDA)"
   ]
  },
  {
   "cell_type": "code",
   "execution_count": 3,
   "id": "f0c1b19b",
   "metadata": {},
   "outputs": [
    {
     "data": {
      "text/html": [
       "<div>\n",
       "<style scoped>\n",
       "    .dataframe tbody tr th:only-of-type {\n",
       "        vertical-align: middle;\n",
       "    }\n",
       "\n",
       "    .dataframe tbody tr th {\n",
       "        vertical-align: top;\n",
       "    }\n",
       "\n",
       "    .dataframe thead th {\n",
       "        text-align: right;\n",
       "    }\n",
       "</style>\n",
       "<table border=\"1\" class=\"dataframe\">\n",
       "  <thead>\n",
       "    <tr style=\"text-align: right;\">\n",
       "      <th></th>\n",
       "      <th>title</th>\n",
       "      <th>text</th>\n",
       "      <th>subject</th>\n",
       "      <th>date</th>\n",
       "    </tr>\n",
       "  </thead>\n",
       "  <tbody>\n",
       "    <tr>\n",
       "      <th>0</th>\n",
       "      <td>Donald Trump Sends Out Embarrassing New Year’...</td>\n",
       "      <td>Donald Trump just couldn t wish all Americans ...</td>\n",
       "      <td>News</td>\n",
       "      <td>December 31, 2017</td>\n",
       "    </tr>\n",
       "    <tr>\n",
       "      <th>1</th>\n",
       "      <td>Drunk Bragging Trump Staffer Started Russian ...</td>\n",
       "      <td>House Intelligence Committee Chairman Devin Nu...</td>\n",
       "      <td>News</td>\n",
       "      <td>December 31, 2017</td>\n",
       "    </tr>\n",
       "    <tr>\n",
       "      <th>2</th>\n",
       "      <td>Sheriff David Clarke Becomes An Internet Joke...</td>\n",
       "      <td>On Friday, it was revealed that former Milwauk...</td>\n",
       "      <td>News</td>\n",
       "      <td>December 30, 2017</td>\n",
       "    </tr>\n",
       "    <tr>\n",
       "      <th>3</th>\n",
       "      <td>Trump Is So Obsessed He Even Has Obama’s Name...</td>\n",
       "      <td>On Christmas day, Donald Trump announced that ...</td>\n",
       "      <td>News</td>\n",
       "      <td>December 29, 2017</td>\n",
       "    </tr>\n",
       "    <tr>\n",
       "      <th>4</th>\n",
       "      <td>Pope Francis Just Called Out Donald Trump Dur...</td>\n",
       "      <td>Pope Francis used his annual Christmas Day mes...</td>\n",
       "      <td>News</td>\n",
       "      <td>December 25, 2017</td>\n",
       "    </tr>\n",
       "  </tbody>\n",
       "</table>\n",
       "</div>"
      ],
      "text/plain": [
       "                                               title  \\\n",
       "0   Donald Trump Sends Out Embarrassing New Year’...   \n",
       "1   Drunk Bragging Trump Staffer Started Russian ...   \n",
       "2   Sheriff David Clarke Becomes An Internet Joke...   \n",
       "3   Trump Is So Obsessed He Even Has Obama’s Name...   \n",
       "4   Pope Francis Just Called Out Donald Trump Dur...   \n",
       "\n",
       "                                                text subject  \\\n",
       "0  Donald Trump just couldn t wish all Americans ...    News   \n",
       "1  House Intelligence Committee Chairman Devin Nu...    News   \n",
       "2  On Friday, it was revealed that former Milwauk...    News   \n",
       "3  On Christmas day, Donald Trump announced that ...    News   \n",
       "4  Pope Francis used his annual Christmas Day mes...    News   \n",
       "\n",
       "                date  \n",
       "0  December 31, 2017  \n",
       "1  December 31, 2017  \n",
       "2  December 30, 2017  \n",
       "3  December 29, 2017  \n",
       "4  December 25, 2017  "
      ]
     },
     "execution_count": 3,
     "metadata": {},
     "output_type": "execute_result"
    }
   ],
   "source": [
    "#checking for the fist 5 rows of the fake news dataset\n",
    "fake_df.head()"
   ]
  },
  {
   "cell_type": "code",
   "execution_count": 4,
   "id": "572d4f1c",
   "metadata": {},
   "outputs": [
    {
     "data": {
      "text/html": [
       "<div>\n",
       "<style scoped>\n",
       "    .dataframe tbody tr th:only-of-type {\n",
       "        vertical-align: middle;\n",
       "    }\n",
       "\n",
       "    .dataframe tbody tr th {\n",
       "        vertical-align: top;\n",
       "    }\n",
       "\n",
       "    .dataframe thead th {\n",
       "        text-align: right;\n",
       "    }\n",
       "</style>\n",
       "<table border=\"1\" class=\"dataframe\">\n",
       "  <thead>\n",
       "    <tr style=\"text-align: right;\">\n",
       "      <th></th>\n",
       "      <th>title</th>\n",
       "      <th>text</th>\n",
       "      <th>subject</th>\n",
       "      <th>date</th>\n",
       "    </tr>\n",
       "  </thead>\n",
       "  <tbody>\n",
       "    <tr>\n",
       "      <th>0</th>\n",
       "      <td>As U.S. budget fight looms, Republicans flip t...</td>\n",
       "      <td>WASHINGTON (Reuters) - The head of a conservat...</td>\n",
       "      <td>politicsNews</td>\n",
       "      <td>December 31, 2017</td>\n",
       "    </tr>\n",
       "    <tr>\n",
       "      <th>1</th>\n",
       "      <td>U.S. military to accept transgender recruits o...</td>\n",
       "      <td>WASHINGTON (Reuters) - Transgender people will...</td>\n",
       "      <td>politicsNews</td>\n",
       "      <td>December 29, 2017</td>\n",
       "    </tr>\n",
       "    <tr>\n",
       "      <th>2</th>\n",
       "      <td>Senior U.S. Republican senator: 'Let Mr. Muell...</td>\n",
       "      <td>WASHINGTON (Reuters) - The special counsel inv...</td>\n",
       "      <td>politicsNews</td>\n",
       "      <td>December 31, 2017</td>\n",
       "    </tr>\n",
       "    <tr>\n",
       "      <th>3</th>\n",
       "      <td>FBI Russia probe helped by Australian diplomat...</td>\n",
       "      <td>WASHINGTON (Reuters) - Trump campaign adviser ...</td>\n",
       "      <td>politicsNews</td>\n",
       "      <td>December 30, 2017</td>\n",
       "    </tr>\n",
       "    <tr>\n",
       "      <th>4</th>\n",
       "      <td>Trump wants Postal Service to charge 'much mor...</td>\n",
       "      <td>SEATTLE/WASHINGTON (Reuters) - President Donal...</td>\n",
       "      <td>politicsNews</td>\n",
       "      <td>December 29, 2017</td>\n",
       "    </tr>\n",
       "  </tbody>\n",
       "</table>\n",
       "</div>"
      ],
      "text/plain": [
       "                                               title  \\\n",
       "0  As U.S. budget fight looms, Republicans flip t...   \n",
       "1  U.S. military to accept transgender recruits o...   \n",
       "2  Senior U.S. Republican senator: 'Let Mr. Muell...   \n",
       "3  FBI Russia probe helped by Australian diplomat...   \n",
       "4  Trump wants Postal Service to charge 'much mor...   \n",
       "\n",
       "                                                text       subject  \\\n",
       "0  WASHINGTON (Reuters) - The head of a conservat...  politicsNews   \n",
       "1  WASHINGTON (Reuters) - Transgender people will...  politicsNews   \n",
       "2  WASHINGTON (Reuters) - The special counsel inv...  politicsNews   \n",
       "3  WASHINGTON (Reuters) - Trump campaign adviser ...  politicsNews   \n",
       "4  SEATTLE/WASHINGTON (Reuters) - President Donal...  politicsNews   \n",
       "\n",
       "                 date  \n",
       "0  December 31, 2017   \n",
       "1  December 29, 2017   \n",
       "2  December 31, 2017   \n",
       "3  December 30, 2017   \n",
       "4  December 29, 2017   "
      ]
     },
     "execution_count": 4,
     "metadata": {},
     "output_type": "execute_result"
    }
   ],
   "source": [
    "#checking for the fist 5 rows of the real news dataset\n",
    "\n",
    "real_df.head()"
   ]
  },
  {
   "cell_type": "code",
   "execution_count": 5,
   "id": "56e13e61",
   "metadata": {},
   "outputs": [
    {
     "name": "stdout",
     "output_type": "stream",
     "text": [
      "Fake News Dataset Info:\n",
      "<class 'pandas.core.frame.DataFrame'>\n",
      "RangeIndex: 23481 entries, 0 to 23480\n",
      "Data columns (total 4 columns):\n",
      " #   Column   Non-Null Count  Dtype \n",
      "---  ------   --------------  ----- \n",
      " 0   title    23481 non-null  object\n",
      " 1   text     23481 non-null  object\n",
      " 2   subject  23481 non-null  object\n",
      " 3   date     23481 non-null  object\n",
      "dtypes: object(4)\n",
      "memory usage: 733.9+ KB\n",
      "\n",
      "Real News Dataset Info:\n",
      "<class 'pandas.core.frame.DataFrame'>\n",
      "RangeIndex: 21417 entries, 0 to 21416\n",
      "Data columns (total 4 columns):\n",
      " #   Column   Non-Null Count  Dtype \n",
      "---  ------   --------------  ----- \n",
      " 0   title    21417 non-null  object\n",
      " 1   text     21417 non-null  object\n",
      " 2   subject  21417 non-null  object\n",
      " 3   date     21417 non-null  object\n",
      "dtypes: object(4)\n",
      "memory usage: 669.4+ KB\n"
     ]
    }
   ],
   "source": [
    "#checking the data information:\n",
    "\n",
    "print(\"Fake News Dataset Info:\")\n",
    "fake_df.info()\n",
    "print(\"\\nReal News Dataset Info:\")\n",
    "real_df.info()"
   ]
  },
  {
   "cell_type": "code",
   "execution_count": 6,
   "id": "febcd9d6",
   "metadata": {},
   "outputs": [
    {
     "name": "stdout",
     "output_type": "stream",
     "text": [
      "Fake News Dataset Null Values:\n",
      "title      0\n",
      "text       0\n",
      "subject    0\n",
      "date       0\n",
      "dtype: int64\n",
      ".......................... \n",
      "\n",
      "Real News Dataset Null Values:\n",
      "title      0\n",
      "text       0\n",
      "subject    0\n",
      "date       0\n",
      "dtype: int64\n"
     ]
    }
   ],
   "source": [
    "#checking for the null values:\n",
    "print(\"Fake News Dataset Null Values:\")\n",
    "print(fake_df.isnull().sum())\n",
    "print(\".......................... \")\n",
    "print(\"\\nReal News Dataset Null Values:\")\n",
    "print(real_df.isnull().sum())"
   ]
  },
  {
   "cell_type": "markdown",
   "id": "31101fc3",
   "metadata": {},
   "source": [
    "## Visualization"
   ]
  },
  {
   "cell_type": "markdown",
   "id": "4d139dfb",
   "metadata": {},
   "source": [
    "Checking the distribution of both fake and real news datasets using graph visualization \n"
   ]
  },
  {
   "cell_type": "code",
   "execution_count": 7,
   "id": "7367f607",
   "metadata": {},
   "outputs": [
    {
     "data": {
      "image/png": "[encoded data removed]",
      "text/plain": [
       "<Figure size 600x400 with 1 Axes>"
      ]
     },
     "metadata": {},
     "output_type": "display_data"
    }
   ],
   "source": [
    "plt.figure(figsize=(6, 4))\n",
    "sns.barplot(x=fake_df['subject'].value_counts().values,y=fake_df['subject'].value_counts().index,palette='viridis')\n",
    "plt.title('Distribution of Subjects in Fake News Dataset')\n",
    "plt.xlabel('Count')\n",
    "plt.ylabel('Subject')\n",
    "plt.show()"
   ]
  },
  {
   "cell_type": "code",
   "execution_count": 8,
   "id": "849fb04b",
   "metadata": {},
   "outputs": [
    {
     "data": {
      "image/png": "[encoded data removed]",
      "text/plain": [
       "<Figure size 600x400 with 1 Axes>"
      ]
     },
     "metadata": {},
     "output_type": "display_data"
    }
   ],
   "source": [
    "plt.figure(figsize=(6, 4))\n",
    "sns.barplot(x=real_df['subject'].value_counts().values,y=real_df['subject'].value_counts().index,palette='viridis')\n",
    "plt.title('Distribution of Subjects in Real News Dataset')\n",
    "plt.xlabel('Count')\n",
    "plt.ylabel('Subject')\n",
    "plt.show()"
   ]
  },
  {
   "cell_type": "markdown",
   "id": "dc4272b8",
   "metadata": {},
   "source": [
    "\n",
    "**Distribution Insights:**\n",
    "\n",
    "The dataset in fake news, comprises multiple news categories. A distribution analysis in the image above revealed that the majority of articles fall under \"News\" and \"Politics\", followed by \"Left-news\". Other categories such as \"Government News\", \"US_News\", and \"Middle-east\" are underrepresented, potentially leading to model bias toward dominant categories.\n",
    "\n",
    "On the other hand, the distribution in real news indicate that politicsNews exceeds the worldnews"
   ]
  },
  {
   "cell_type": "markdown",
   "id": "3d47f3fb",
   "metadata": {},
   "source": [
    "##### Map the subjects into their domains; (News, Politics, and Others)"
   ]
  },
  {
   "cell_type": "markdown",
   "id": "17d3b9b0",
   "metadata": {},
   "source": [
    "##### 1. Fake dataset:"
   ]
  },
  {
   "cell_type": "code",
   "execution_count": 9,
   "id": "0adf848a",
   "metadata": {},
   "outputs": [
    {
     "data": {
      "image/png": "[encoded data removed]",
      "text/plain": [
       "<Figure size 600x400 with 1 Axes>"
      ]
     },
     "metadata": {},
     "output_type": "display_data"
    }
   ],
   "source": [
    "def map_subject(subject):\n",
    "    subject_lower = subject.lower()\n",
    "    if 'politics' in subject_lower:\n",
    "        return 'Politics'\n",
    "    elif 'news' in subject_lower:\n",
    "        return 'News'\n",
    "    else:\n",
    "        return 'Other'\n",
    "fake_df['domain'] = fake_df['subject'].apply(map_subject)\n",
    "\n",
    "\n",
    "\"\"\"Domain distribution of the fake news dataset\"\"\"\n",
    "\n",
    "plt.figure(figsize=(6, 4))\n",
    "sns.countplot(data=fake_df, x='domain', palette='Set2')\n",
    "plt.title('Domain Distribution in Fake News Dataset')\n",
    "plt.xlabel('Domain')\n",
    "plt.ylabel('Count')\n",
    "plt.show()"
   ]
  },
  {
   "cell_type": "code",
   "execution_count": 10,
   "id": "45266ad6",
   "metadata": {},
   "outputs": [
    {
     "data": {
      "image/png": "[encoded data removed]",
      "text/plain": [
       "<Figure size 1000x600 with 1 Axes>"
      ]
     },
     "metadata": {},
     "output_type": "display_data"
    }
   ],
   "source": [
    "vectorizer = CountVectorizer(stop_words='english', max_features=20)\n",
    "X = vectorizer.fit_transform(fake_df['text'])\n",
    "word_freq = pd.DataFrame(X.toarray(), columns=vectorizer.get_feature_names_out())\n",
    "top_words = word_freq.sum().sort_values(ascending=False)\n",
    "\n",
    "top_words.head(20).plot(kind='barh', figsize=(10, 6), color='skyblue')\n",
    "plt.title('Top 20 Most Common Words in Fake News')\n",
    "plt.xlabel('Frequency')\n",
    "plt.ylabel('Words')\n",
    "plt.show()"
   ]
  },
  {
   "cell_type": "markdown",
   "id": "46c8ac7a",
   "metadata": {},
   "source": [
    "##### To standardize subject representation, a function was applied to categorize each article into three broader domains: \"News\", \"Politics\", and \"Other\"; the News category surpases both political and others with over 14,000 information . This was done by mapping the original subject labels based on keyword matching: And top 20 most common words in Fake news were indicated, however, the word trump ws most common word with 0ver **7000** words"
   ]
  },
  {
   "cell_type": "markdown",
   "id": "995c76d0",
   "metadata": {},
   "source": [
    "#### 2. Real news"
   ]
  },
  {
   "cell_type": "code",
   "execution_count": 11,
   "id": "dfd841f7",
   "metadata": {},
   "outputs": [
    {
     "data": {
      "image/png": "[encoded data removed]",
      "text/plain": [
       "<Figure size 600x400 with 1 Axes>"
      ]
     },
     "metadata": {},
     "output_type": "display_data"
    }
   ],
   "source": [
    "def map_subject(subject):\n",
    "    subject_lower = subject.lower()\n",
    "    if 'politics' in subject_lower:\n",
    "        return 'Politics'\n",
    "    elif 'news' in subject_lower:\n",
    "        return 'News'\n",
    "    else:\n",
    "        return 'Other'\n",
    "real_df['domain'] = real_df['subject'].apply(map_subject)\n",
    "\n",
    "\n",
    "\"\"\"Domain distribution of the real news dataset\"\"\"\n",
    "\n",
    "plt.figure(figsize=(6, 4))\n",
    "sns.countplot(data=real_df, x='domain', palette='Set2')\n",
    "plt.title('Domain Distribution in Real News Dataset')\n",
    "plt.xlabel('Domain')\n",
    "plt.ylabel('Count')\n",
    "plt.show()"
   ]
  },
  {
   "cell_type": "code",
   "execution_count": 12,
   "id": "2ae8d1ce",
   "metadata": {},
   "outputs": [
    {
     "data": {
      "image/png": "[encoded data removed]",
      "text/plain": [
       "<Figure size 1000x600 with 1 Axes>"
      ]
     },
     "metadata": {},
     "output_type": "display_data"
    }
   ],
   "source": [
    "\n",
    "vectorizer = CountVectorizer(stop_words='english', max_features=20)\n",
    "X = vectorizer.fit_transform(real_df['text'])\n",
    "word_freq = pd.DataFrame(X.toarray(), columns=vectorizer.get_feature_names_out())\n",
    "top_words = word_freq.sum().sort_values(ascending=False)\n",
    "\n",
    "top_words.head(20).plot(kind='barh', figsize=(10, 6), color='skyblue')\n",
    "plt.title('Top 20 Most Common Words in Real News')\n",
    "plt.xlabel('Frequency')\n",
    "plt.ylabel('Words')\n",
    "plt.show()"
   ]
  },
  {
   "cell_type": "markdown",
   "id": "6c121bd3",
   "metadata": {},
   "source": [
    "Moving to Real news, it had only two category which were news and politics. However, the politics had over 10,000 informations compared to news. Additionally, In most common words, the word **said** appeared 98,000 times exceeding towards 100,000. "
   ]
  },
  {
   "cell_type": "code",
   "execution_count": 13,
   "id": "2fbf4bfd",
   "metadata": {},
   "outputs": [
    {
     "data": {
      "image/png": "[encoded data removed]",
      "text/plain": [
       "<Figure size 1000x800 with 1 Axes>"
      ]
     },
     "metadata": {},
     "output_type": "display_data"
    }
   ],
   "source": [
    "# comparing both news (Fake and Real):\n",
    "def get_top_words(df, n=20):\n",
    "    vectorizer = CountVectorizer(stop_words='english', max_features=n)\n",
    "    X = vectorizer.fit_transform(df['text'])\n",
    "    word_freq = pd.DataFrame(X.toarray(), columns=vectorizer.get_feature_names_out()).sum()\n",
    "    return word_freq.sort_values(ascending=False)\n",
    "\n",
    "top_fake_words = get_top_words(fake_df)\n",
    "top_real_words = get_top_words(real_df)\n",
    "\n",
    "comparison = pd.DataFrame({'Fake': top_fake_words,'Real': top_real_words})\n",
    "\n",
    "comparison.head(15).plot(kind='barh', figsize=(10, 8), color=['#d95f02', '#1b9e77'])\n",
    "plt.title('Top Words in Fake vs. Real News')\n",
    "plt.xlabel('Frequency')\n",
    "plt.ylabel('Words')\n",
    "plt.legend(['Fake News', 'Real News'])\n",
    "plt.gca().invert_yaxis() \n",
    "plt.show()"
   ]
  },
  {
   "cell_type": "markdown",
   "id": "ba556a61",
   "metadata": {},
   "source": [
    "comparative analysis of word frequency between fake and real news articles reveals distinct patterns in language usage. Fake news articles frequently employ emotionally charged or personalized terms like \"**hillary**,\" \"**obama**,\" \"**clinton**,\" \"**just**,\" \"**like**,\" and \"**media**,\" which appear in contexts suggesting bias and opinion-based narratives. In contrast, real news articles predominantly use institutional and factual language, featuring terms such as \"**government**,\" \"**campaign**,\" \"**election**,\" and \"**house**,\" which reflects a more formal and policy-focused approach. Some terms, including \"**donald**\" and \"**new**,\" appear frequently across both fake and real news categories, indicating shared topic coverage. \n",
    "The analysis shows that fake news is characterized by emotionally evocative vocabulary, while real news tends to use political and governmental terminology.\n"
   ]
  },
  {
   "cell_type": "code",
   "execution_count": 14,
   "id": "4d0a2e3b",
   "metadata": {},
   "outputs": [],
   "source": [
    "\"\"\"creating a new column called 'label' to identify the type of news.\n",
    "0 for fake news and 1 for real news.\"\"\"\n",
    "\n",
    "fake_df['label'] = 0\n",
    "real_df['label'] = 1\n",
    "\n",
    "\n",
    "combined_new= pd.concat([fake_df, real_df], ignore_index=True)\n",
    "combined_new = combined_new[['text', 'subject', 'label']].dropna().reset_index(drop=True)\n"
   ]
  },
  {
   "cell_type": "code",
   "execution_count": 15,
   "id": "2e6b194b",
   "metadata": {},
   "outputs": [
    {
     "data": {
      "text/plain": [
       "Text(0.5, 1.0, 'Distribution of Subjects in Combined News Dataset')"
      ]
     },
     "execution_count": 15,
     "metadata": {},
     "output_type": "execute_result"
    },
    {
     "data": {
      "image/png": "[encoded data removed]",
      "text/plain": [
       "<Figure size 1000x600 with 1 Axes>"
      ]
     },
     "metadata": {},
     "output_type": "display_data"
    }
   ],
   "source": [
    "combined_new['subject'].value_counts().plot(kind='bar', figsize=(10, 6), color='skyblue')\n",
    "plt.title('Distribution of Subjects in Combined News Dataset')  "
   ]
  },
  {
   "cell_type": "code",
   "execution_count": 16,
   "id": "2eacb0e0",
   "metadata": {},
   "outputs": [
    {
     "data": {
      "text/plain": [
       "subject\n",
       "News        26007\n",
       "Politics    18113\n",
       "Other         778\n",
       "Name: count, dtype: int64"
      ]
     },
     "execution_count": 16,
     "metadata": {},
     "output_type": "execute_result"
    }
   ],
   "source": [
    "def map_subject(subject):\n",
    "    subject_lower = subject.lower()\n",
    "    \n",
    "    if 'politics' in subject_lower:\n",
    "        return 'Politics'\n",
    "    elif 'news' in subject_lower:\n",
    "        return 'News'\n",
    "    else:\n",
    "        return 'Other'\n",
    "\n",
    "# applying the function\n",
    "combined_new['subject'] = combined_new['subject'].apply(map_subject)\n",
    "\n",
    "# Check the result\n",
    "combined_new['subject'].value_counts()"
   ]
  },
  {
   "cell_type": "code",
   "execution_count": 17,
   "id": "02aeb08c",
   "metadata": {},
   "outputs": [
    {
     "name": "stdout",
     "output_type": "stream",
     "text": [
      "text       0\n",
      "subject    0\n",
      "label      0\n",
      "dtype: int64\n"
     ]
    }
   ],
   "source": [
    "print(combined_new.isna().sum()) #checking for the null values in the combined dataset"
   ]
  },
  {
   "cell_type": "markdown",
   "id": "98f932ec",
   "metadata": {},
   "source": [
    " ### Baseline Model"
   ]
  },
  {
   "cell_type": "code",
   "execution_count": 18,
   "id": "a7a721c8",
   "metadata": {},
   "outputs": [],
   "source": [
    "# binary classification: will classify the news into two categories fake = 0, real= 1\n",
    "\n",
    "X = combined_new['text']\n",
    "y = combined_new['label']  \n",
    "\n",
    "X_train, X_test, y_train, y_test, subj_train, subj_test = train_test_split(X, y, combined_new['subject'],test_size=0.2, stratify=y, random_state=42)\n"
   ]
  },
  {
   "cell_type": "code",
   "execution_count": 19,
   "id": "916c7b9b",
   "metadata": {},
   "outputs": [
    {
     "name": "stdout",
     "output_type": "stream",
     "text": [
      "Overall Performance:\n",
      "              precision    recall  f1-score   support\n",
      "\n",
      "           0       0.99      0.98      0.99      4696\n",
      "           1       0.98      0.99      0.99      4284\n",
      "\n",
      "    accuracy                           0.99      8980\n",
      "   macro avg       0.99      0.99      0.99      8980\n",
      "weighted avg       0.99      0.99      0.99      8980\n",
      "\n",
      "Accuracy: 0.9859688195991091\n"
     ]
    }
   ],
   "source": [
    "# build a pipeline\n",
    "pipeline = Pipeline([ ('tfidf', TfidfVectorizer(stop_words='english', max_features=10000)),('clf', LogisticRegression(max_iter=1000, class_weight='balanced'))])\n",
    "\n",
    "# train\n",
    "pipeline.fit(X_train, y_train)\n",
    "\n",
    "# predict\n",
    "y_pred = pipeline.predict(X_test)\n",
    "\n",
    "# overall evaluation\n",
    "print(\"Overall Performance:\")\n",
    "print(classification_report(y_test, y_pred))\n",
    "print(\"Accuracy:\", accuracy_score(y_test, y_pred))\n"
   ]
  },
  {
   "cell_type": "markdown",
   "id": "7e3fe242",
   "metadata": {},
   "source": [
    "The metrics demonstrate that the model achieves balanced performance between precision and recall across both fake and real label classifications. The logistic regression model exhibits nearly identical performance levels when detecting both fake and real content. The high F1-score obtained indicates the model's overall strength and reliability, positioning logistic regression as a solid baseline approach for fake news detection tasks."
   ]
  },
  {
   "cell_type": "code",
   "execution_count": 20,
   "id": "8e428f9d",
   "metadata": {},
   "outputs": [],
   "source": [
    "# domains = subj_test.unique()\n",
    "# for domain in domains:\n",
    "#     idx = subj_test == domain\n",
    "#     print(f\"\\nPerformance in domain: {domain}\")\n",
    "#     print(\"Precision:\", precision_score(y_test[idx], y_pred[idx]))\n",
    "#     print(\"Recall:\", recall_score(y_test[idx], y_pred[idx]))\n",
    "#     print(\"F1 Score:\", f1_score(y_test[idx], y_pred[idx]))"
   ]
  },
  {
   "cell_type": "code",
   "execution_count": 21,
   "id": "0d322548",
   "metadata": {},
   "outputs": [
    {
     "name": "stdout",
     "output_type": "stream",
     "text": [
      "\n",
      "Domain Performance: Politics\n",
      "  Precision: 0.9841\n",
      "  Recall   : 0.9841\n",
      "  F1 Score : 0.9841\n",
      "\n",
      "Domain Performance: News\n",
      "  Precision: 0.9793\n",
      "  Recall   : 0.9962\n",
      "  F1 Score : 0.9877\n",
      "\n",
      "Domain Performance: Other\n",
      "  Precision: 0.0000\n",
      "  Recall   : 0.0000\n",
      "  F1 Score : 0.0000\n"
     ]
    }
   ],
   "source": [
    "domains = subj_test.unique()\n",
    "\n",
    "for domain in domains:\n",
    "    mask = subj_test == domain\n",
    "    y_true_d = y_test[mask]\n",
    "    y_pred_d = y_pred[mask]\n",
    "\n",
    "    # acc = accuracy_score(y_true_d, y_pred_d)\n",
    "    prec = precision_score(y_true_d, y_pred_d)\n",
    "    rec = recall_score(y_true_d, y_pred_d)\n",
    "    f1 = f1_score(y_true_d, y_pred_d)\n",
    "\n",
    "\n",
    "    print(f\"\\nDomain Performance: {domain}\")\n",
    "    # print(f\"  Accuracy : {acc:.4f}\")\n",
    "    print(f\"  Precision: {prec:.4f}\")\n",
    "    print(f\"  Recall   : {rec:.4f}\")\n",
    "    print(f\"  F1 Score : {f1:.4f}\")"
   ]
  },
  {
   "cell_type": "markdown",
   "id": "26b7bfa6",
   "metadata": {},
   "source": [
    "\n",
    "- The model demonstrates strong performance in the Politics domain, showing effective capture of linguistic and structural patterns typical in political articles, with high precision and recall indicating minimal false positives and negatives.\n",
    "\n",
    "- For the News domain, the model shows exceptional recall by successfully identifying most real/fake news examples, though slightly lower precision suggests some false positives. The F1 Score remains high overall.\n",
    "\n",
    "- The model's performance in the \"Other\" domain shows poor generalization, likely due to:\n",
    "    <ul>\n",
    "    \n",
    "        - Limited sample size\n",
    "\n",
    "        - Heterogeneous content differing from training distribution\n",
    "\n",
    "        - Need for additional examples or domain-specific fine-tuning\n",
    "    </ul>\n"
   ]
  },
  {
   "cell_type": "code",
   "execution_count": 22,
   "id": "a2ea4b55",
   "metadata": {},
   "outputs": [
    {
     "name": "stdout",
     "output_type": "stream",
     "text": [
      "\n",
      "Top predictors of FAKE news:\n",
      "read: -6.1563\n",
      "just: -6.0276\n",
      "image: -5.7477\n",
      "featured: -5.7014\n",
      "gop: -5.2652\n",
      "\n",
      "Top predictors of REAL news:\n",
      "reuters: 28.0992\n",
      "said: 17.8010\n",
      "washington: 6.6954\n",
      "wednesday: 5.5133\n",
      "thursday: 5.0981\n"
     ]
    }
   ],
   "source": [
    "import numpy as np\n",
    "\n",
    "# TF-IDF feature names\n",
    "vectorizer = pipeline.named_steps['tfidf']\n",
    "clf = pipeline.named_steps['clf']\n",
    "feature_names = vectorizer.get_feature_names_out()\n",
    "\n",
    "# top number of features for each class\n",
    "top_n = 5\n",
    "coefs = clf.coef_[0]\n",
    "top_fake = np.argsort(coefs)[:top_n]\n",
    "top_real = np.argsort(coefs)[-top_n:]\n",
    "\n",
    "print(\"\\nTop predictors of FAKE news:\")\n",
    "for i in top_fake:\n",
    "    print(f\"{feature_names[i]}: {coefs[i]:.4f}\")\n",
    "\n",
    "print(\"\\nTop predictors of REAL news:\")\n",
    "for i in reversed(top_real):\n",
    "    print(f\"{feature_names[i]}: {coefs[i]:.4f}\")\n"
   ]
  },
  {
   "cell_type": "markdown",
   "id": "c8d24064",
   "metadata": {},
   "source": [
    "This analysis shows that fake news tends to rely on emotionally persuasive or vague language, while real news emphasizes concrete details, sources, \n",
    "and timelines. "
   ]
  },
  {
   "cell_type": "code",
   "execution_count": 23,
   "id": "efd539d7",
   "metadata": {},
   "outputs": [
    {
     "data": {
      "image/png": "[encoded data removed]",
      "text/plain": [
       "<Figure size 600x500 with 2 Axes>"
      ]
     },
     "metadata": {},
     "output_type": "display_data"
    }
   ],
   "source": [
    "import seaborn as sns\n",
    "import matplotlib.pyplot as plt\n",
    "from sklearn.metrics import confusion_matrix\n",
    "\n",
    "# Compute confusion matrix\n",
    "cm = confusion_matrix(y_test, y_pred)\n",
    "\n",
    "# Optional: define labels\n",
    "labels = ['Fake (0)', 'Real (1)']\n",
    "\n",
    "# Plot heatmap\n",
    "plt.figure(figsize=(6, 5))\n",
    "sns.heatmap(cm, annot=True, fmt='d', cmap='Blues',\n",
    "            xticklabels=labels, yticklabels=labels)\n",
    "plt.xlabel('Predicted Label')\n",
    "plt.ylabel('True Label')\n",
    "plt.title('Confusion Matrix Heatmap')\n",
    "plt.tight_layout()\n",
    "plt.show()\n"
   ]
  },
  {
   "cell_type": "markdown",
   "id": "c4dd71f8",
   "metadata": {},
   "source": [
    "**Interpretation:**\n",
    "- True Positives (TP - Real predicted as Real): 4241\n",
    "\n",
    "- True Negatives (TN - Fake predicted as Fake): 4613\n",
    "\n",
    "- False Positives (FP - Fake predicted as Real): 83\n",
    "\n",
    "- False Negatives (FN - Real predicted as Fake): 43\n",
    "\n",
    "**Insight:**\n",
    "- The model shows strong predictive power, correctly identifying the majority of both fake and real news articles.\n",
    "\n",
    "- Only 83 fake articles were incorrectly classified as real, while 43 real articles were misclassified as fake.\n",
    "\n",
    "- These low error rates indicate the model has high precision and recall, which was also reflected in the earlier metrics (F1 ≈ 0.99).\n",
    "\n",
    "- The slight imbalance in misclassifications suggests a marginal tendency to favor identifying fake news more cautiously, which could be beneficial in minimizing false trust in misinformation.\n",
    "\n"
   ]
  },
  {
   "cell_type": "markdown",
   "id": "84a06b66",
   "metadata": {},
   "source": [
    "### Step 2"
   ]
  },
  {
   "cell_type": "markdown",
   "id": "ddbc80b6",
   "metadata": {},
   "source": [
    "**Step 2:** is about model improvement to make model performs better; here we includes the dataset from kaggle which consists of only politic fake and real news. politics news were considered, why? because based on the previous dataset it contains alot of information. There after we combined the new dataset with the previous dataset (combined_new) and **combined_df** had all datasets ready for model evaluation\n",
    "\n",
    "*Source:*\n",
    "[Fake news (PolitiFact & BuzzFeed):](https://www.kaggle.com/datasets/sohaila103/fake-news-politifact-and-buzzfeed)"
   ]
  },
  {
   "cell_type": "code",
   "execution_count": 24,
   "id": "7820413a",
   "metadata": {},
   "outputs": [],
   "source": [
    "politic_fake_df = pd.read_csv('PolitiFact_fake_news_content.csv', encoding='latin1')\n",
    "politic_real_df = pd.read_csv('PolitiFact_real_news_content.csv', encoding='latin1')    "
   ]
  },
  {
   "cell_type": "code",
   "execution_count": 25,
   "id": "1b2371af",
   "metadata": {},
   "outputs": [
    {
     "data": {
      "text/html": [
       "<div>\n",
       "<style scoped>\n",
       "    .dataframe tbody tr th:only-of-type {\n",
       "        vertical-align: middle;\n",
       "    }\n",
       "\n",
       "    .dataframe tbody tr th {\n",
       "        vertical-align: top;\n",
       "    }\n",
       "\n",
       "    .dataframe thead th {\n",
       "        text-align: right;\n",
       "    }\n",
       "</style>\n",
       "<table border=\"1\" class=\"dataframe\">\n",
       "  <thead>\n",
       "    <tr style=\"text-align: right;\">\n",
       "      <th></th>\n",
       "      <th>id</th>\n",
       "      <th>title</th>\n",
       "      <th>text</th>\n",
       "      <th>url</th>\n",
       "      <th>top_img</th>\n",
       "      <th>authors</th>\n",
       "      <th>source</th>\n",
       "      <th>publish_date</th>\n",
       "      <th>movies</th>\n",
       "      <th>images</th>\n",
       "      <th>canonical_link</th>\n",
       "      <th>meta_data</th>\n",
       "    </tr>\n",
       "  </thead>\n",
       "  <tbody>\n",
       "    <tr>\n",
       "      <th>206</th>\n",
       "      <td>Fake_88-Webpage</td>\n",
       "      <td>Hillarys TOP Donor Country Just Auctioned Off...</td>\n",
       "      <td>Hillarys TOP Donor Country Just Auctioned Off...</td>\n",
       "      <td>http://rightwingnews.com/hillary-clinton-2/hil...</td>\n",
       "      <td>http://rightwingnews.com/wp-content/uploads/20...</td>\n",
       "      <td>Terresa Monroe-hamilton</td>\n",
       "      <td>http://rightwingnews.com</td>\n",
       "      <td>{'$date': 1474912025000}</td>\n",
       "      <td>NaN</td>\n",
       "      <td>http://1.gravatar.com/avatar/d35b77ff6c3900715...</td>\n",
       "      <td>http://rightwingnews.com/hillary-clinton-2/hil...</td>\n",
       "      <td>{\"googlebot\": \"noimageindex\", \"og\": {\"site_nam...</td>\n",
       "    </tr>\n",
       "    <tr>\n",
       "      <th>207</th>\n",
       "      <td>Fake_89-Webpage</td>\n",
       "      <td>Cavuto Just Exposed Lester Holt's Lies During ...</td>\n",
       "      <td>Advertisement - story continues below\\n\\nThe f...</td>\n",
       "      <td>http://conservativetribune.com/lester-holt-lie...</td>\n",
       "      <td>http://conservativetribune.com/wp-content/uplo...</td>\n",
       "      <td>Martin Lioll,John Falkenberg,Ben Marquis,Kimbe...</td>\n",
       "      <td>http://conservativetribune.com</td>\n",
       "      <td>{'$date': 1474934400000}</td>\n",
       "      <td>https://www.youtube.com/embed/ThwaDSaoGU8?feat...</td>\n",
       "      <td>http://conservativetribune.com/wp-content/uplo...</td>\n",
       "      <td>http://conservativetribune.com/lester-holt-lie...</td>\n",
       "      <td>{\"description\": \"People are already calling th...</td>\n",
       "    </tr>\n",
       "    <tr>\n",
       "      <th>208</th>\n",
       "      <td>Fake_9-Webpage</td>\n",
       "      <td>The AP, In 2004, Said Your Boy Obama Was BORN ...</td>\n",
       "      <td>Well THATS Weird. If the Birther movement is ...</td>\n",
       "      <td>http://clashdaily.com/2016/09/dear-cnn-ap-2004...</td>\n",
       "      <td>http://clashdaily.com/wp-content/uploads/2016/...</td>\n",
       "      <td>Rich Witmer,Doug Giles</td>\n",
       "      <td>http://clashdaily.com</td>\n",
       "      <td>{'$date': 1474207108000}</td>\n",
       "      <td>NaN</td>\n",
       "      <td>http://clashdaily.wpengine.netdna-cdn.com/wp-c...</td>\n",
       "      <td>http://clashdaily.com/2016/09/dear-cnn-ap-2004...</td>\n",
       "      <td>{\"googlebot\": \"noimageindex\", \"og\": {\"site_nam...</td>\n",
       "    </tr>\n",
       "    <tr>\n",
       "      <th>209</th>\n",
       "      <td>Fake_90-Webpage</td>\n",
       "      <td>People Noticed Something Odd About Hillary's O...</td>\n",
       "      <td>\\n\\nTheres a lot to be discussed about last n...</td>\n",
       "      <td>http://www.thepoliticalinsider.com/first-presi...</td>\n",
       "      <td>http://assets.thepoliticalinsider.com.s3.amazo...</td>\n",
       "      <td>NaN</td>\n",
       "      <td>http://www.thepoliticalinsider.com</td>\n",
       "      <td>{'$date': 1475000011000}</td>\n",
       "      <td>NaN</td>\n",
       "      <td>http://1.gravatar.com/avatar/71be986d321b3d520...</td>\n",
       "      <td>http://thepoliticalinsider.com/first-president...</td>\n",
       "      <td>{\"description\": \"One thing that has baffled ma...</td>\n",
       "    </tr>\n",
       "    <tr>\n",
       "      <th>210</th>\n",
       "      <td>Fake_91-Webpage</td>\n",
       "      <td>People Noticed Something Odd About Hillarys O...</td>\n",
       "      <td>People Noticed Something Odd About Hillarys O...</td>\n",
       "      <td>http://rightwingnews.com/top-news/people-notic...</td>\n",
       "      <td>http://rightwingnews.com/wp-content/uploads/20...</td>\n",
       "      <td>Lisa Smith</td>\n",
       "      <td>http://rightwingnews.com</td>\n",
       "      <td>{'$date': 1475010040000}</td>\n",
       "      <td>NaN</td>\n",
       "      <td>http://0.gravatar.com/avatar/3728144c20aefded7...</td>\n",
       "      <td>http://rightwingnews.com/top-news/people-notic...</td>\n",
       "      <td>{\"googlebot\": \"noimageindex\", \"og\": {\"site_nam...</td>\n",
       "    </tr>\n",
       "  </tbody>\n",
       "</table>\n",
       "</div>"
      ],
      "text/plain": [
       "                  id                                              title  \\\n",
       "206  Fake_88-Webpage  Hillarys TOP Donor Country Just Auctioned Off...   \n",
       "207  Fake_89-Webpage  Cavuto Just Exposed Lester Holt's Lies During ...   \n",
       "208   Fake_9-Webpage  The AP, In 2004, Said Your Boy Obama Was BORN ...   \n",
       "209  Fake_90-Webpage  People Noticed Something Odd About Hillary's O...   \n",
       "210  Fake_91-Webpage  People Noticed Something Odd About Hillarys O...   \n",
       "\n",
       "                                                  text  \\\n",
       "206  Hillarys TOP Donor Country Just Auctioned Off...   \n",
       "207  Advertisement - story continues below\\n\\nThe f...   \n",
       "208  Well THATS Weird. If the Birther movement is ...   \n",
       "209  \\n\\nTheres a lot to be discussed about last n...   \n",
       "210  People Noticed Something Odd About Hillarys O...   \n",
       "\n",
       "                                                   url  \\\n",
       "206  http://rightwingnews.com/hillary-clinton-2/hil...   \n",
       "207  http://conservativetribune.com/lester-holt-lie...   \n",
       "208  http://clashdaily.com/2016/09/dear-cnn-ap-2004...   \n",
       "209  http://www.thepoliticalinsider.com/first-presi...   \n",
       "210  http://rightwingnews.com/top-news/people-notic...   \n",
       "\n",
       "                                               top_img  \\\n",
       "206  http://rightwingnews.com/wp-content/uploads/20...   \n",
       "207  http://conservativetribune.com/wp-content/uplo...   \n",
       "208  http://clashdaily.com/wp-content/uploads/2016/...   \n",
       "209  http://assets.thepoliticalinsider.com.s3.amazo...   \n",
       "210  http://rightwingnews.com/wp-content/uploads/20...   \n",
       "\n",
       "                                               authors  \\\n",
       "206                            Terresa Monroe-hamilton   \n",
       "207  Martin Lioll,John Falkenberg,Ben Marquis,Kimbe...   \n",
       "208                             Rich Witmer,Doug Giles   \n",
       "209                                                NaN   \n",
       "210                                         Lisa Smith   \n",
       "\n",
       "                                 source              publish_date  \\\n",
       "206            http://rightwingnews.com  {'$date': 1474912025000}   \n",
       "207      http://conservativetribune.com  {'$date': 1474934400000}   \n",
       "208               http://clashdaily.com  {'$date': 1474207108000}   \n",
       "209  http://www.thepoliticalinsider.com  {'$date': 1475000011000}   \n",
       "210            http://rightwingnews.com  {'$date': 1475010040000}   \n",
       "\n",
       "                                                movies  \\\n",
       "206                                                NaN   \n",
       "207  https://www.youtube.com/embed/ThwaDSaoGU8?feat...   \n",
       "208                                                NaN   \n",
       "209                                                NaN   \n",
       "210                                                NaN   \n",
       "\n",
       "                                                images  \\\n",
       "206  http://1.gravatar.com/avatar/d35b77ff6c3900715...   \n",
       "207  http://conservativetribune.com/wp-content/uplo...   \n",
       "208  http://clashdaily.wpengine.netdna-cdn.com/wp-c...   \n",
       "209  http://1.gravatar.com/avatar/71be986d321b3d520...   \n",
       "210  http://0.gravatar.com/avatar/3728144c20aefded7...   \n",
       "\n",
       "                                        canonical_link  \\\n",
       "206  http://rightwingnews.com/hillary-clinton-2/hil...   \n",
       "207  http://conservativetribune.com/lester-holt-lie...   \n",
       "208  http://clashdaily.com/2016/09/dear-cnn-ap-2004...   \n",
       "209  http://thepoliticalinsider.com/first-president...   \n",
       "210  http://rightwingnews.com/top-news/people-notic...   \n",
       "\n",
       "                                             meta_data  \n",
       "206  {\"googlebot\": \"noimageindex\", \"og\": {\"site_nam...  \n",
       "207  {\"description\": \"People are already calling th...  \n",
       "208  {\"googlebot\": \"noimageindex\", \"og\": {\"site_nam...  \n",
       "209  {\"description\": \"One thing that has baffled ma...  \n",
       "210  {\"googlebot\": \"noimageindex\", \"og\": {\"site_nam...  "
      ]
     },
     "execution_count": 25,
     "metadata": {},
     "output_type": "execute_result"
    }
   ],
   "source": [
    "politic_fake_df .tail()"
   ]
  },
  {
   "cell_type": "code",
   "execution_count": 26,
   "id": "7e68746d",
   "metadata": {},
   "outputs": [],
   "source": [
    "#keep only 'text', 'title', and 'label'\n",
    "politic_real_df = politic_real_df[['text', 'title']]\n",
    "\n",
    "#rename 'title' column to 'subject'\n",
    "politic_real_df = politic_real_df.rename(columns={'title': 'subject'})\n"
   ]
  },
  {
   "cell_type": "code",
   "execution_count": 27,
   "id": "2ed14d31",
   "metadata": {},
   "outputs": [],
   "source": [
    "#keep only 'text', 'title', and 'label'\n",
    "politic_fake_df = politic_fake_df[['text', 'title']]\n",
    "\n",
    "#rename 'title' column to 'subject'\n",
    "politic_fake_df = politic_fake_df.rename(columns={'title': 'subject'})\n"
   ]
  },
  {
   "cell_type": "code",
   "execution_count": 28,
   "id": "3d996e08",
   "metadata": {},
   "outputs": [],
   "source": [
    "# assigning labels to the datasets\n",
    "# 0 for fake news and 1 for real news\n",
    "politic_fake_df['label'] = 0\n",
    "politic_real_df['label'] = 1"
   ]
  },
  {
   "cell_type": "code",
   "execution_count": 29,
   "id": "faf0dc8c",
   "metadata": {},
   "outputs": [
    {
     "data": {
      "text/plain": [
       "text       0\n",
       "subject    0\n",
       "label      0\n",
       "dtype: int64"
      ]
     },
     "execution_count": 29,
     "metadata": {},
     "output_type": "execute_result"
    }
   ],
   "source": [
    "#checking for the null values in the politic fake news dataset\n",
    "politic_real_df.isna().sum()"
   ]
  },
  {
   "cell_type": "code",
   "execution_count": 30,
   "id": "716c40fb",
   "metadata": {},
   "outputs": [
    {
     "data": {
      "text/plain": [
       "text       0\n",
       "subject    0\n",
       "label      0\n",
       "dtype: int64"
      ]
     },
     "execution_count": 30,
     "metadata": {},
     "output_type": "execute_result"
    }
   ],
   "source": [
    "#checking for the null values in the politic real news dataset\n",
    "politic_fake_df.isna().sum()"
   ]
  },
  {
   "cell_type": "code",
   "execution_count": 31,
   "id": "70f46155",
   "metadata": {},
   "outputs": [],
   "source": [
    "# combining two datasets and using only 'text', 'subject', and 'label' columns\n",
    "\n",
    "new_data= pd.concat([politic_fake_df, politic_real_df], ignore_index=True)\n",
    "new_data = new_data[['text', 'subject', 'label']].dropna().reset_index(drop=True)"
   ]
  },
  {
   "cell_type": "code",
   "execution_count": 32,
   "id": "bbf42d74",
   "metadata": {},
   "outputs": [],
   "source": [
    "# converting the text to lowercase \n",
    "new_data['text'] = new_data['text'].str.lower()"
   ]
  },
  {
   "cell_type": "code",
   "execution_count": 33,
   "id": "72142e87",
   "metadata": {},
   "outputs": [],
   "source": [
    "# since the dataset is about politics, assign the subject as 'Politics'\n",
    "new_data['subject'] = 'Politics'"
   ]
  },
  {
   "cell_type": "code",
   "execution_count": 34,
   "id": "19acc363",
   "metadata": {},
   "outputs": [],
   "source": [
    "# concatenating the new dataset with the combined dataset\n",
    "\n",
    "combined_df= pd.concat([combined_new, new_data], axis=0).drop_duplicates().reset_index(drop=True)"
   ]
  },
  {
   "cell_type": "code",
   "execution_count": 35,
   "id": "bf2a32e0",
   "metadata": {},
   "outputs": [
    {
     "data": {
      "text/html": [
       "<div>\n",
       "<style scoped>\n",
       "    .dataframe tbody tr th:only-of-type {\n",
       "        vertical-align: middle;\n",
       "    }\n",
       "\n",
       "    .dataframe tbody tr th {\n",
       "        vertical-align: top;\n",
       "    }\n",
       "\n",
       "    .dataframe thead th {\n",
       "        text-align: right;\n",
       "    }\n",
       "</style>\n",
       "<table border=\"1\" class=\"dataframe\">\n",
       "  <thead>\n",
       "    <tr style=\"text-align: right;\">\n",
       "      <th></th>\n",
       "      <th>text</th>\n",
       "      <th>subject</th>\n",
       "      <th>label</th>\n",
       "    </tr>\n",
       "  </thead>\n",
       "  <tbody>\n",
       "    <tr>\n",
       "      <th>43898</th>\n",
       "      <td>like much of the mainstream media, the washing...</td>\n",
       "      <td>Politics</td>\n",
       "      <td>1</td>\n",
       "    </tr>\n",
       "    <tr>\n",
       "      <th>43899</th>\n",
       "      <td>2016 obamas team isnt laughing at trump anym...</td>\n",
       "      <td>Politics</td>\n",
       "      <td>1</td>\n",
       "    </tr>\n",
       "    <tr>\n",
       "      <th>43900</th>\n",
       "      <td>story highlights trump has 45%, clinton 42% an...</td>\n",
       "      <td>Politics</td>\n",
       "      <td>1</td>\n",
       "    </tr>\n",
       "    <tr>\n",
       "      <th>43901</th>\n",
       "      <td>there may be a few women out there who enjoy a...</td>\n",
       "      <td>Politics</td>\n",
       "      <td>1</td>\n",
       "    </tr>\n",
       "    <tr>\n",
       "      <th>43902</th>\n",
       "      <td>off message is donald trump qualified to be pr...</td>\n",
       "      <td>Politics</td>\n",
       "      <td>1</td>\n",
       "    </tr>\n",
       "  </tbody>\n",
       "</table>\n",
       "</div>"
      ],
      "text/plain": [
       "                                                    text   subject  label\n",
       "43898  like much of the mainstream media, the washing...  Politics      1\n",
       "43899  2016 obamas team isnt laughing at trump anym...  Politics      1\n",
       "43900  story highlights trump has 45%, clinton 42% an...  Politics      1\n",
       "43901  there may be a few women out there who enjoy a...  Politics      1\n",
       "43902  off message is donald trump qualified to be pr...  Politics      1"
      ]
     },
     "execution_count": 35,
     "metadata": {},
     "output_type": "execute_result"
    }
   ],
   "source": [
    "combined_df.tail()"
   ]
  },
  {
   "cell_type": "markdown",
   "id": "51e36c70",
   "metadata": {},
   "source": [
    "###  **Feature Engineering**\n",
    "\n",
    "***Abstract:***\n",
    "\n",
    "To help the model better tell the difference between fake and real news, we added some helpful features (extra information) to the dataset. These features are based on how the text is written and what words or symbols it uses. The main techniques used were:\n",
    "\n",
    "- ***Text Length and Word Count:***\n",
    "\n",
    "We looked at how long each article is and how many words it contains. Fake news might be too short or too long compared to real news.\n",
    "\n",
    "- ***Punctuation Marks:***\n",
    "\n",
    "We counted things like exclamation marks (!) and question marks (?) to check if the article sounds dramatic or emotional. Fake news often uses these more to attract attention.\n",
    "\n",
    "- ***Keyword Check:***\n",
    "\n",
    "We searched for certain words that are often found in fake news, like “shocking” or “breaking.” These words can signal biased or misleading content.\n",
    "\n",
    "After creating these features, we used a tool called ColumnTransformer to prepare the data:\n",
    "\n",
    "- It turned the text into a format the model can understand using something called TF-IDF (it looks at how important words are).\n",
    "\n",
    "- It also scaled the numbers (like word count) so they are easier to compare.\n",
    "\n",
    "All these features were combined into X (what the model learns from), and the label (whether the article is fake or real) was kept as y (what the model tries to predict).\n",
    "\n"
   ]
  },
  {
   "cell_type": "code",
   "execution_count": 36,
   "id": "6ad238f5",
   "metadata": {},
   "outputs": [],
   "source": [
    "#text Length and word count\n",
    "\n",
    "combined_df['text_length'] = combined_df['text'].str.len()\n",
    "combined_df['word_count'] = combined_df['text'].str.split().apply(len)\n"
   ]
  },
  {
   "cell_type": "code",
   "execution_count": 37,
   "id": "4140888b",
   "metadata": {},
   "outputs": [],
   "source": [
    "# punctuation-based features\n",
    "\n",
    "combined_df['exclamation_count'] = combined_df['text'].str.count('!')\n",
    "combined_df['question_count'] = combined_df['text'].str.count('\\?')\n"
   ]
  },
  {
   "cell_type": "code",
   "execution_count": 38,
   "id": "7873a537",
   "metadata": {},
   "outputs": [],
   "source": [
    "# simple keyword check\n",
    "\n",
    "bias_words = ['shocking', 'hoax', 'breaking', 'miracle', 'secret', 'conspiracy']\n",
    "\n",
    "combined_df['bias_word_count'] = combined_df['text'].apply(\n",
    "    lambda x: sum(word in x.lower() for word in bias_words)\n",
    ")\n"
   ]
  },
  {
   "cell_type": "code",
   "execution_count": 39,
   "id": "223d2e38",
   "metadata": {},
   "outputs": [
    {
     "data": {
      "text/html": [
       "<div>\n",
       "<style scoped>\n",
       "    .dataframe tbody tr th:only-of-type {\n",
       "        vertical-align: middle;\n",
       "    }\n",
       "\n",
       "    .dataframe tbody tr th {\n",
       "        vertical-align: top;\n",
       "    }\n",
       "\n",
       "    .dataframe thead th {\n",
       "        text-align: right;\n",
       "    }\n",
       "</style>\n",
       "<table border=\"1\" class=\"dataframe\">\n",
       "  <thead>\n",
       "    <tr style=\"text-align: right;\">\n",
       "      <th></th>\n",
       "      <th>text</th>\n",
       "      <th>subject</th>\n",
       "      <th>label</th>\n",
       "      <th>text_length</th>\n",
       "      <th>word_count</th>\n",
       "      <th>exclamation_count</th>\n",
       "      <th>question_count</th>\n",
       "      <th>bias_word_count</th>\n",
       "    </tr>\n",
       "  </thead>\n",
       "  <tbody>\n",
       "    <tr>\n",
       "      <th>0</th>\n",
       "      <td>Donald Trump just couldn t wish all Americans ...</td>\n",
       "      <td>News</td>\n",
       "      <td>0</td>\n",
       "      <td>2893</td>\n",
       "      <td>495</td>\n",
       "      <td>6</td>\n",
       "      <td>9</td>\n",
       "      <td>1</td>\n",
       "    </tr>\n",
       "    <tr>\n",
       "      <th>1</th>\n",
       "      <td>House Intelligence Committee Chairman Devin Nu...</td>\n",
       "      <td>News</td>\n",
       "      <td>0</td>\n",
       "      <td>1898</td>\n",
       "      <td>305</td>\n",
       "      <td>0</td>\n",
       "      <td>0</td>\n",
       "      <td>0</td>\n",
       "    </tr>\n",
       "    <tr>\n",
       "      <th>2</th>\n",
       "      <td>On Friday, it was revealed that former Milwauk...</td>\n",
       "      <td>News</td>\n",
       "      <td>0</td>\n",
       "      <td>3597</td>\n",
       "      <td>580</td>\n",
       "      <td>2</td>\n",
       "      <td>4</td>\n",
       "      <td>2</td>\n",
       "    </tr>\n",
       "    <tr>\n",
       "      <th>3</th>\n",
       "      <td>On Christmas day, Donald Trump announced that ...</td>\n",
       "      <td>News</td>\n",
       "      <td>0</td>\n",
       "      <td>2774</td>\n",
       "      <td>444</td>\n",
       "      <td>0</td>\n",
       "      <td>1</td>\n",
       "      <td>0</td>\n",
       "    </tr>\n",
       "    <tr>\n",
       "      <th>4</th>\n",
       "      <td>Pope Francis used his annual Christmas Day mes...</td>\n",
       "      <td>News</td>\n",
       "      <td>0</td>\n",
       "      <td>2346</td>\n",
       "      <td>420</td>\n",
       "      <td>0</td>\n",
       "      <td>0</td>\n",
       "      <td>0</td>\n",
       "    </tr>\n",
       "  </tbody>\n",
       "</table>\n",
       "</div>"
      ],
      "text/plain": [
       "                                                text subject  label  \\\n",
       "0  Donald Trump just couldn t wish all Americans ...    News      0   \n",
       "1  House Intelligence Committee Chairman Devin Nu...    News      0   \n",
       "2  On Friday, it was revealed that former Milwauk...    News      0   \n",
       "3  On Christmas day, Donald Trump announced that ...    News      0   \n",
       "4  Pope Francis used his annual Christmas Day mes...    News      0   \n",
       "\n",
       "   text_length  word_count  exclamation_count  question_count  bias_word_count  \n",
       "0         2893         495                  6               9                1  \n",
       "1         1898         305                  0               0                0  \n",
       "2         3597         580                  2               4                2  \n",
       "3         2774         444                  0               1                0  \n",
       "4         2346         420                  0               0                0  "
      ]
     },
     "execution_count": 39,
     "metadata": {},
     "output_type": "execute_result"
    }
   ],
   "source": [
    "combined_df.head()"
   ]
  },
  {
   "cell_type": "code",
   "execution_count": 40,
   "id": "29fe69e7",
   "metadata": {},
   "outputs": [],
   "source": [
    "preprocessor = ColumnTransformer([\n",
    "    ('tfidf', TfidfVectorizer(max_features=5000, stop_words='english'), 'text'),\n",
    "    ('num', StandardScaler(), ['text_length', 'word_count', 'exclamation_count', 'question_count', 'bias_word_count']),\n",
    "    ('subject', OneHotEncoder(handle_unknown='ignore'), ['subject'])\n",
    "])\n"
   ]
  },
  {
   "cell_type": "code",
   "execution_count": 41,
   "id": "bd33453d",
   "metadata": {},
   "outputs": [],
   "source": [
    "X = combined_df[['text', 'text_length', 'word_count', 'exclamation_count', 'question_count', 'bias_word_count', 'subject']]\n",
    "y = combined_df['label']\n"
   ]
  },
  {
   "cell_type": "code",
   "execution_count": 42,
   "id": "e04aab10",
   "metadata": {},
   "outputs": [],
   "source": [
    "X_train, X_test, y_train, y_test = train_test_split(X, y, stratify=y, test_size=0.2, random_state=42)\n"
   ]
  },
  {
   "cell_type": "markdown",
   "id": "57eb0103",
   "metadata": {},
   "source": [
    "### Different Model Architectures"
   ]
  },
  {
   "cell_type": "markdown",
   "id": "e53b3ac6",
   "metadata": {},
   "source": [
    "To identify whether a news article is fake or real, two types of machine learning models were tested: Naive Bayes and Random Forest.\n",
    "\n",
    "- Naive Bayes is a simple model that works well with text by calculating probabilities of words.\n",
    "\n",
    "- Random Forest is a more advanced model that uses many decision trees to make better predictions.\n",
    "\n",
    "Both models were trained on the same dataset and evaluated based on how accurately they could predict fake or real news.\n",
    "\n",
    "***Results:***\n",
    "\n",
    "- Random Forest performed best, achieving 99% accuracy, with very high precision and recall for both fake and real news.\n",
    "\n",
    "- Naive Bayes was simpler but still effective, reaching 92% accuracy.\n",
    "\n",
    "These results show that while Naive Bayes offers a fast and simple solution, Random Forest provides stronger and more reliable predictions, making it more suitable. "
   ]
  },
  {
   "cell_type": "markdown",
   "id": "19dceafe",
   "metadata": {},
   "source": [
    "#### a. Naive Bayes"
   ]
  },
  {
   "cell_type": "code",
   "execution_count": 43,
   "id": "deaaa12c",
   "metadata": {},
   "outputs": [
    {
     "name": "stdout",
     "output_type": "stream",
     "text": [
      "Naive Bayes Performance:\n",
      "Accuracy: 0.9242683065710056\n",
      "              precision    recall  f1-score   support\n",
      "\n",
      "           0       0.92      0.93      0.93      4500\n",
      "           1       0.93      0.92      0.92      4281\n",
      "\n",
      "    accuracy                           0.92      8781\n",
      "   macro avg       0.92      0.92      0.92      8781\n",
      "weighted avg       0.92      0.92      0.92      8781\n",
      "\n"
     ]
    }
   ],
   "source": [
    "\n",
    "nb_pipeline = Pipeline([('tfidf', TfidfVectorizer(max_features=5000, stop_words='english')),('nb', MultinomialNB())])\n",
    "\n",
    "nb_pipeline.fit(X_train['text'], y_train)\n",
    "nb_preds = nb_pipeline.predict(X_test['text'])\n",
    "\n",
    "print(\"Naive Bayes Performance:\")\n",
    "print(\"Accuracy:\", accuracy_score(y_test, nb_preds))\n",
    "print(classification_report(y_test, nb_preds))\n",
    "\n"
   ]
  },
  {
   "cell_type": "markdown",
   "id": "4fd58929",
   "metadata": {},
   "source": [
    "#### b. Random Forest"
   ]
  },
  {
   "cell_type": "code",
   "execution_count": 44,
   "id": "e0d5960b",
   "metadata": {},
   "outputs": [
    {
     "name": "stdout",
     "output_type": "stream",
     "text": [
      "Random Forest Performance:\n",
      "Accuracy: 0.9918004783054322\n",
      "              precision    recall  f1-score   support\n",
      "\n",
      "           0       0.99      0.99      0.99      4500\n",
      "           1       0.99      0.99      0.99      4281\n",
      "\n",
      "    accuracy                           0.99      8781\n",
      "   macro avg       0.99      0.99      0.99      8781\n",
      "weighted avg       0.99      0.99      0.99      8781\n",
      "\n"
     ]
    }
   ],
   "source": [
    "\n",
    "rf_pipeline = Pipeline([('preprocess', preprocessor),('clf', RandomForestClassifier(n_estimators=100, random_state=42))])\n",
    "\n",
    "rf_pipeline.fit(X_train, y_train)\n",
    "rf_preds = rf_pipeline.predict(X_test)\n",
    "\n",
    "print(\"Random Forest Performance:\")\n",
    "print(\"Accuracy:\", accuracy_score(y_test, rf_preds))\n",
    "print(classification_report(y_test, rf_preds))\n"
   ]
  },
  {
   "cell_type": "markdown",
   "id": "dae40f0b",
   "metadata": {},
   "source": [
    "### Ensemble Models\n",
    "\n",
    "- The ensemble learning models **LightGBM** and **XGBoost** were used to classify news articles as either fake or real. These models combine the predictions of many decision trees to make more accurate and stable predictions.\n",
    "\n",
    "- **LightGBM** achieved an accuracy of 99.36%, with balanced precision, recall, and F1-score across both classes. It is well known for its speed and ability to handle large datasets efficiently.\n",
    "\n",
    "- While the **XGBoost** slightly outperformed LightGBM with an accuracy of 99.41%. This model is highly optimized for performance and delivered consistent results with strong precision and recall.\n",
    "\n",
    "In conclusion, both models demonstrated excellent ability to learn complex patterns in the text data, confirming the value of ensemble methods in fake news detection."
   ]
  },
  {
   "cell_type": "markdown",
   "id": "65b6fde2",
   "metadata": {},
   "source": [
    "#### a. LightGBM Model"
   ]
  },
  {
   "cell_type": "code",
   "execution_count": 45,
   "id": "8dce6677",
   "metadata": {},
   "outputs": [
    {
     "name": "stdout",
     "output_type": "stream",
     "text": [
      "[LightGBM] [Info] Number of positive: 17125, number of negative: 17997\n",
      "[LightGBM] [Info] Auto-choosing col-wise multi-threading, the overhead of testing was 0.479131 seconds.\n",
      "You can set `force_col_wise=true` to remove the overhead.\n",
      "[LightGBM] [Info] Total Bins 801205\n",
      "[LightGBM] [Info] Number of data points in the train set: 35122, number of used features: 5007\n",
      "[LightGBM] [Info] [binary:BoostFromScore]: pavg=0.487586 -> initscore=-0.049666\n",
      "[LightGBM] [Info] Start training from score -0.049666\n",
      "LightGBM Performance:\n",
      "Accuracy: 0.9913449493224007\n",
      "              precision    recall  f1-score   support\n",
      "\n",
      "           0       0.99      0.99      0.99      4500\n",
      "           1       0.99      0.99      0.99      4281\n",
      "\n",
      "    accuracy                           0.99      8781\n",
      "   macro avg       0.99      0.99      0.99      8781\n",
      "weighted avg       0.99      0.99      0.99      8781\n",
      "\n"
     ]
    }
   ],
   "source": [
    "from sklearn.pipeline import Pipeline\n",
    "\n",
    "lgbm_pipeline = Pipeline([('preprocess', preprocessor),('clf', LGBMClassifier())])\n",
    "\n",
    "lgbm_pipeline.fit(X_train, y_train)\n",
    "lgbm_preds = lgbm_pipeline.predict(X_test)\n",
    "\n",
    "print(\"LightGBM Performance:\")\n",
    "print(\"Accuracy:\", accuracy_score(y_test, lgbm_preds))\n",
    "print(classification_report(y_test, lgbm_preds))\n"
   ]
  },
  {
   "cell_type": "markdown",
   "id": "c5dfadaf",
   "metadata": {},
   "source": [
    "#### b. XGBoost Model"
   ]
  },
  {
   "cell_type": "code",
   "execution_count": 46,
   "id": "63bc056b",
   "metadata": {},
   "outputs": [
    {
     "name": "stdout",
     "output_type": "stream",
     "text": [
      "XGBoost Performance:\n",
      "Accuracy: 0.991003302585127\n",
      "              precision    recall  f1-score   support\n",
      "\n",
      "           0       0.99      0.99      0.99      4500\n",
      "           1       0.99      0.99      0.99      4281\n",
      "\n",
      "    accuracy                           0.99      8781\n",
      "   macro avg       0.99      0.99      0.99      8781\n",
      "weighted avg       0.99      0.99      0.99      8781\n",
      "\n"
     ]
    }
   ],
   "source": [
    "xgb_pipeline = Pipeline([('preprocess', preprocessor),\n",
    "            ('clf', XGBClassifier(use_label_encoder=False, eval_metric='logloss', random_state=42))\n",
    "])\n",
    "\n",
    "xgb_pipeline.fit(X_train, y_train)\n",
    "xgb_preds = xgb_pipeline.predict(X_test)\n",
    "\n",
    "print(\"XGBoost Performance:\")\n",
    "print(\"Accuracy:\", accuracy_score(y_test, xgb_preds))\n",
    "print(classification_report(y_test, xgb_preds))\n"
   ]
  },
  {
   "cell_type": "code",
   "execution_count": null,
   "id": "a64c3385",
   "metadata": {},
   "outputs": [],
   "source": []
  }
 ],
 "metadata": {
  "kernelspec": {
   "display_name": "myenv",
   "language": "python",
   "name": "python3"
  },
  "language_info": {
   "codemirror_mode": {
    "name": "ipython",
    "version": 3
   },
   "file_extension": ".py",
   "mimetype": "text/x-python",
   "name": "python",
   "nbconvert_exporter": "python",
   "pygments_lexer": "ipython3",
   "version": "3.8.20"
  }
 },
 "nbformat": 4,
 "nbformat_minor": 5
}
